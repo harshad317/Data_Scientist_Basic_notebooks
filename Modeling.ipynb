{
 "cells": [
  {
   "cell_type": "code",
   "execution_count": 1,
   "id": "f5e34f32",
   "metadata": {},
   "outputs": [],
   "source": [
    "import pandas as pd\n",
    "import numpy as np\n",
    "import matplotlib.pyplot as plt\n",
    "\n",
    "from sklearn.preprocessing import StandardScaler, MinMaxScaler\n",
    "from sklearn.model_selection import train_test_split, StratifiedKFold\n",
    "from sklearn.linear_model import LogisticRegression, RidgeClassifier\n",
    "from sklearn.neighbors import KNeighborsClassifier\n",
    "from sklearn.svm import SVC, LinearSVC\n",
    "from sklearn.ensemble import RandomForestClassifier, ExtraTreesClassifier, GradientBoostingClassifier\n",
    "import xgboost as xgb\n",
    "import lightgbm as lgbm\n",
    "from catboost import CatBoostClassifier\n",
    "import optuna\n",
    "from sklearn.metrics import accuracy_score, f1_score\n",
    "from imblearn.over_sampling import SMOTE, ADASYN"
   ]
  },
  {
   "cell_type": "code",
   "execution_count": 2,
   "id": "75f71b46",
   "metadata": {},
   "outputs": [],
   "source": [
    "df= pd.read_csv('final_data.csv')"
   ]
  },
  {
   "cell_type": "code",
   "execution_count": 3,
   "id": "bf810222",
   "metadata": {},
   "outputs": [],
   "source": [
    "df= df.drop('Unnamed: 0', axis=1)"
   ]
  },
  {
   "cell_type": "code",
   "execution_count": 4,
   "id": "52e7ec40",
   "metadata": {},
   "outputs": [
    {
     "data": {
      "text/html": [
       "<div>\n",
       "<style scoped>\n",
       "    .dataframe tbody tr th:only-of-type {\n",
       "        vertical-align: middle;\n",
       "    }\n",
       "\n",
       "    .dataframe tbody tr th {\n",
       "        vertical-align: top;\n",
       "    }\n",
       "\n",
       "    .dataframe thead th {\n",
       "        text-align: right;\n",
       "    }\n",
       "</style>\n",
       "<table border=\"1\" class=\"dataframe\">\n",
       "  <thead>\n",
       "    <tr style=\"text-align: right;\">\n",
       "      <th></th>\n",
       "      <th>CreditScore</th>\n",
       "      <th>Gender</th>\n",
       "      <th>Age</th>\n",
       "      <th>Tenure</th>\n",
       "      <th>Balance</th>\n",
       "      <th>NumOfProducts</th>\n",
       "      <th>HasCrCard</th>\n",
       "      <th>IsActiveMember</th>\n",
       "      <th>EstimatedSalary</th>\n",
       "      <th>Exited</th>\n",
       "      <th>family_members_in_bank</th>\n",
       "      <th>country__Germany</th>\n",
       "      <th>country__Spain</th>\n",
       "      <th>Credit_score_range</th>\n",
       "      <th>balance_bins</th>\n",
       "      <th>estimated_salary_bins</th>\n",
       "      <th>credit_score_by_customer</th>\n",
       "    </tr>\n",
       "  </thead>\n",
       "  <tbody>\n",
       "    <tr>\n",
       "      <th>0</th>\n",
       "      <td>619</td>\n",
       "      <td>0</td>\n",
       "      <td>3.761200</td>\n",
       "      <td>2</td>\n",
       "      <td>0.00</td>\n",
       "      <td>1</td>\n",
       "      <td>1</td>\n",
       "      <td>1</td>\n",
       "      <td>101348.88</td>\n",
       "      <td>1</td>\n",
       "      <td>1</td>\n",
       "      <td>0</td>\n",
       "      <td>0</td>\n",
       "      <td>0</td>\n",
       "      <td>0</td>\n",
       "      <td>5</td>\n",
       "      <td>3777</td>\n",
       "    </tr>\n",
       "    <tr>\n",
       "      <th>1</th>\n",
       "      <td>608</td>\n",
       "      <td>0</td>\n",
       "      <td>3.737670</td>\n",
       "      <td>1</td>\n",
       "      <td>83807.86</td>\n",
       "      <td>1</td>\n",
       "      <td>0</td>\n",
       "      <td>1</td>\n",
       "      <td>112542.58</td>\n",
       "      <td>0</td>\n",
       "      <td>17</td>\n",
       "      <td>0</td>\n",
       "      <td>1</td>\n",
       "      <td>0</td>\n",
       "      <td>1</td>\n",
       "      <td>5</td>\n",
       "      <td>3777</td>\n",
       "    </tr>\n",
       "    <tr>\n",
       "      <th>2</th>\n",
       "      <td>502</td>\n",
       "      <td>0</td>\n",
       "      <td>3.761200</td>\n",
       "      <td>8</td>\n",
       "      <td>159660.80</td>\n",
       "      <td>3</td>\n",
       "      <td>1</td>\n",
       "      <td>0</td>\n",
       "      <td>113931.57</td>\n",
       "      <td>1</td>\n",
       "      <td>8</td>\n",
       "      <td>0</td>\n",
       "      <td>0</td>\n",
       "      <td>0</td>\n",
       "      <td>9</td>\n",
       "      <td>5</td>\n",
       "      <td>3777</td>\n",
       "    </tr>\n",
       "    <tr>\n",
       "      <th>3</th>\n",
       "      <td>699</td>\n",
       "      <td>0</td>\n",
       "      <td>3.688879</td>\n",
       "      <td>1</td>\n",
       "      <td>0.00</td>\n",
       "      <td>2</td>\n",
       "      <td>0</td>\n",
       "      <td>0</td>\n",
       "      <td>93826.63</td>\n",
       "      <td>0</td>\n",
       "      <td>14</td>\n",
       "      <td>0</td>\n",
       "      <td>0</td>\n",
       "      <td>2</td>\n",
       "      <td>0</td>\n",
       "      <td>4</td>\n",
       "      <td>1064</td>\n",
       "    </tr>\n",
       "    <tr>\n",
       "      <th>4</th>\n",
       "      <td>850</td>\n",
       "      <td>0</td>\n",
       "      <td>3.784190</td>\n",
       "      <td>2</td>\n",
       "      <td>125510.82</td>\n",
       "      <td>1</td>\n",
       "      <td>1</td>\n",
       "      <td>1</td>\n",
       "      <td>79084.10</td>\n",
       "      <td>0</td>\n",
       "      <td>20</td>\n",
       "      <td>0</td>\n",
       "      <td>1</td>\n",
       "      <td>3</td>\n",
       "      <td>5</td>\n",
       "      <td>3</td>\n",
       "      <td>2408</td>\n",
       "    </tr>\n",
       "  </tbody>\n",
       "</table>\n",
       "</div>"
      ],
      "text/plain": [
       "   CreditScore  Gender       Age  Tenure    Balance  NumOfProducts  HasCrCard  \\\n",
       "0          619       0  3.761200       2       0.00              1          1   \n",
       "1          608       0  3.737670       1   83807.86              1          0   \n",
       "2          502       0  3.761200       8  159660.80              3          1   \n",
       "3          699       0  3.688879       1       0.00              2          0   \n",
       "4          850       0  3.784190       2  125510.82              1          1   \n",
       "\n",
       "   IsActiveMember  EstimatedSalary  Exited  family_members_in_bank  \\\n",
       "0               1        101348.88       1                       1   \n",
       "1               1        112542.58       0                      17   \n",
       "2               0        113931.57       1                       8   \n",
       "3               0         93826.63       0                      14   \n",
       "4               1         79084.10       0                      20   \n",
       "\n",
       "   country__Germany  country__Spain  Credit_score_range  balance_bins  \\\n",
       "0                 0               0                   0             0   \n",
       "1                 0               1                   0             1   \n",
       "2                 0               0                   0             9   \n",
       "3                 0               0                   2             0   \n",
       "4                 0               1                   3             5   \n",
       "\n",
       "   estimated_salary_bins  credit_score_by_customer  \n",
       "0                      5                      3777  \n",
       "1                      5                      3777  \n",
       "2                      5                      3777  \n",
       "3                      4                      1064  \n",
       "4                      3                      2408  "
      ]
     },
     "execution_count": 4,
     "metadata": {},
     "output_type": "execute_result"
    }
   ],
   "source": [
    "df.head()"
   ]
  },
  {
   "cell_type": "code",
   "execution_count": 5,
   "id": "f0b0389a",
   "metadata": {},
   "outputs": [],
   "source": [
    "X= df.drop('Exited', axis=1)\n",
    "y= df.Exited"
   ]
  },
  {
   "cell_type": "code",
   "execution_count": 6,
   "id": "1b2b898c",
   "metadata": {},
   "outputs": [],
   "source": [
    "oversample= ADASYN()\n",
    "X, y= oversample.fit_resample(X, y)"
   ]
  },
  {
   "cell_type": "code",
   "execution_count": 7,
   "id": "962586ab",
   "metadata": {},
   "outputs": [],
   "source": [
    "X_train, X_test, y_train, y_test= train_test_split(X, y, test_size=0.25, random_state=10, stratify=y)"
   ]
  },
  {
   "cell_type": "code",
   "execution_count": 8,
   "id": "74774151",
   "metadata": {},
   "outputs": [],
   "source": [
    "from mlxtend.feature_selection import SequentialFeatureSelector as sfs"
   ]
  },
  {
   "cell_type": "code",
   "execution_count": 9,
   "id": "6a4d40d0",
   "metadata": {},
   "outputs": [
    {
     "name": "stdout",
     "output_type": "stream",
     "text": [
      "correlated features:  3\n"
     ]
    }
   ],
   "source": [
    "def correlation(dataset, threshold):\n",
    "    col_corr = set()  # Set of all the names of correlated columns\n",
    "    corr_matrix = dataset.corr()\n",
    "    for i in range(len(corr_matrix.columns)):\n",
    "        for j in range(i):\n",
    "            if abs(corr_matrix.iloc[i, j]) > threshold: # we are interested in absolute coeff value\n",
    "                colname = corr_matrix.columns[i]  # getting the name of column\n",
    "                col_corr.add(colname)\n",
    "    return col_corr\n",
    "\n",
    "corr_features = correlation(X_train, 0.8)\n",
    "print('correlated features: ', len(set(corr_features)) )"
   ]
  },
  {
   "cell_type": "code",
   "execution_count": 10,
   "id": "2397eb0d",
   "metadata": {},
   "outputs": [
    {
     "data": {
      "text/plain": [
       "((12036, 13), (4012, 13))"
      ]
     },
     "execution_count": 10,
     "metadata": {},
     "output_type": "execute_result"
    }
   ],
   "source": [
    "# remove correlated features\n",
    "X_train.drop(labels=corr_features, axis=1, inplace=True)\n",
    "X_test.drop(labels=corr_features, axis=1, inplace=True)\n",
    "\n",
    "X_train.shape, X_test.shape"
   ]
  },
  {
   "cell_type": "code",
   "execution_count": 11,
   "id": "fe7d2515",
   "metadata": {
    "scrolled": true
   },
   "outputs": [
    {
     "name": "stderr",
     "output_type": "stream",
     "text": [
      "[Parallel(n_jobs=1)]: Using backend SequentialBackend with 1 concurrent workers.\n",
      "[Parallel(n_jobs=1)]: Done   1 out of   1 | elapsed:    0.8s remaining:    0.0s\n",
      "[Parallel(n_jobs=1)]: Done  13 out of  13 | elapsed:   10.9s finished\n",
      "\n",
      "[2022-03-09 17:58:51] Features: 12/8 -- score: 0.8517834728863589[Parallel(n_jobs=1)]: Using backend SequentialBackend with 1 concurrent workers.\n",
      "[Parallel(n_jobs=1)]: Done   1 out of   1 | elapsed:    0.7s remaining:    0.0s\n",
      "[Parallel(n_jobs=1)]: Done  12 out of  12 | elapsed:    9.8s finished\n",
      "\n",
      "[2022-03-09 17:59:01] Features: 11/8 -- score: 0.8554178484193125[Parallel(n_jobs=1)]: Using backend SequentialBackend with 1 concurrent workers.\n",
      "[Parallel(n_jobs=1)]: Done   1 out of   1 | elapsed:    0.7s remaining:    0.0s\n",
      "[Parallel(n_jobs=1)]: Done  11 out of  11 | elapsed:    8.7s finished\n",
      "\n",
      "[2022-03-09 17:59:10] Features: 10/8 -- score: 0.853987078466029[Parallel(n_jobs=1)]: Using backend SequentialBackend with 1 concurrent workers.\n",
      "[Parallel(n_jobs=1)]: Done   1 out of   1 | elapsed:    0.7s remaining:    0.0s\n",
      "[Parallel(n_jobs=1)]: Done  10 out of  10 | elapsed:    7.7s finished\n",
      "\n",
      "[2022-03-09 17:59:18] Features: 9/8 -- score: 0.8548693577451245[Parallel(n_jobs=1)]: Using backend SequentialBackend with 1 concurrent workers.\n",
      "[Parallel(n_jobs=1)]: Done   1 out of   1 | elapsed:    0.7s remaining:    0.0s\n",
      "[Parallel(n_jobs=1)]: Done   9 out of   9 | elapsed:    6.7s finished\n",
      "\n",
      "[2022-03-09 17:59:24] Features: 8/8 -- score: 0.8567411900996371"
     ]
    }
   ],
   "source": [
    "sfs = sfs(ExtraTreesClassifier(n_estimators=100, n_jobs=4, random_state=10), \n",
    "           k_features=8, # the more features we want, the longer it will take to run\n",
    "           forward=False, \n",
    "           floating=False, # see the docs for more details in this parameter\n",
    "           verbose=2, # this indicates how much to print out intermediate steps\n",
    "           scoring='f1',\n",
    "           cv=2)\n",
    "\n",
    "sfs = sfs.fit(np.array(X_train), y_train)"
   ]
  },
  {
   "cell_type": "code",
   "execution_count": 12,
   "id": "916c879c",
   "metadata": {},
   "outputs": [
    {
     "data": {
      "text/plain": [
       "Index(['CreditScore', 'Age', 'Balance', 'NumOfProducts', 'IsActiveMember',\n",
       "       'EstimatedSalary', 'country__Germany', 'credit_score_by_customer'],\n",
       "      dtype='object')"
      ]
     },
     "execution_count": 12,
     "metadata": {},
     "output_type": "execute_result"
    }
   ],
   "source": [
    "selected_feat = X_train.columns[list(sfs.k_feature_idx_)]\n",
    "selected_feat"
   ]
  },
  {
   "cell_type": "code",
   "execution_count": 13,
   "id": "4b1cc438",
   "metadata": {},
   "outputs": [],
   "source": [
    "X = X[selected_feat]"
   ]
  },
  {
   "cell_type": "code",
   "execution_count": 16,
   "id": "d0d58c76",
   "metadata": {},
   "outputs": [],
   "source": [
    "xgb_param= {'booster': 'dart',\n",
    " 'lambda': 1.9208316054245495e-06,\n",
    " 'alpha': 8.317686375849313e-08,\n",
    " 'max_depth': 6,\n",
    " 'eta': 0.2646954221898419,\n",
    " 'gamma': 0.00015552718621314075,\n",
    " 'grow_policy': 'lossguide',\n",
    " 'sample_type': 'uniform',\n",
    " 'normalize_type': 'forest',\n",
    " 'rate_drop': 1.1593898294259455e-07,\n",
    " 'skip_drop': 0.000203700988137663}"
   ]
  },
  {
   "cell_type": "code",
   "execution_count": 17,
   "id": "1db17d7b",
   "metadata": {},
   "outputs": [],
   "source": [
    "def my_folds(model_name, params,metric):\n",
    "    n_folds = 10\n",
    "    subbed = []\n",
    "    kf = StratifiedKFold(n_splits=n_folds, shuffle=True, random_state=10)\n",
    "\n",
    "\n",
    "    for fold, (train_idx, test_idx) in tqdm(enumerate(kf.split(X_train, y_train))):\n",
    "        print('=============== Fold No:',fold+1,'===============')\n",
    "        X_tr, X_tst = X_train.iloc[train_idx], X_train.iloc[test_idx]\n",
    "        y_tr, y_tst = y_train.iloc[train_idx], y_train.iloc[test_idx]\n",
    "    \n",
    "        model = model_name(**params,eval_metric= metric, n_estimators= 2500)\n",
    "        model.fit(X_tr, y_tr,eval_set=[(X_tst, y_tst)], early_stopping_rounds=150, verbose=100)\n",
    "        print(accuracy_score(y_tst, model.predict(X_tst)))\n",
    "        subbed.append(accuracy_score(y_tst, model.predict(X_tst)))\n",
    "        pred = model.predict(X_test)\n",
    "    print(np.mean(subbed))\n",
    "    return pred"
   ]
  },
  {
   "cell_type": "code",
   "execution_count": 21,
   "id": "db914527",
   "metadata": {
    "scrolled": false
   },
   "outputs": [
    {
     "data": {
      "application/vnd.jupyter.widget-view+json": {
       "model_id": "d6bbd5849f8347a3bafc4a6141bdfffe",
       "version_major": 2,
       "version_minor": 0
      },
      "text/plain": [
       "0it [00:00, ?it/s]"
      ]
     },
     "metadata": {},
     "output_type": "display_data"
    },
    {
     "name": "stdout",
     "output_type": "stream",
     "text": [
      "=============== Fold No: 1 ===============\n",
      "[0]\tvalidation_0-error:0.18355\n",
      "[100]\tvalidation_0-error:0.08223\n",
      "[200]\tvalidation_0-error:0.08306\n",
      "[260]\tvalidation_0-error:0.08306\n",
      "0.9194352159468439\n",
      "=============== Fold No: 2 ===============\n",
      "[0]\tvalidation_0-error:0.18937\n",
      "[100]\tvalidation_0-error:0.10050\n",
      "[200]\tvalidation_0-error:0.09635\n",
      "[300]\tvalidation_0-error:0.09552\n",
      "[390]\tvalidation_0-error:0.09967\n",
      "0.9078073089700996\n",
      "=============== Fold No: 3 ===============\n",
      "[0]\tvalidation_0-error:0.21013\n",
      "[100]\tvalidation_0-error:0.11794\n",
      "[200]\tvalidation_0-error:0.12043\n",
      "[290]\tvalidation_0-error:0.11130\n",
      "0.8920265780730897\n",
      "=============== Fold No: 4 ===============\n",
      "[0]\tvalidation_0-error:0.17857\n",
      "[100]\tvalidation_0-error:0.08472\n",
      "[200]\tvalidation_0-error:0.08389\n",
      "[300]\tvalidation_0-error:0.08056\n",
      "[400]\tvalidation_0-error:0.08223\n",
      "[486]\tvalidation_0-error:0.08056\n",
      "0.9227574750830565\n",
      "=============== Fold No: 5 ===============\n",
      "[0]\tvalidation_0-error:0.19269\n",
      "[100]\tvalidation_0-error:0.11379\n",
      "[200]\tvalidation_0-error:0.10963\n",
      "[300]\tvalidation_0-error:0.11296\n",
      "[379]\tvalidation_0-error:0.11296\n",
      "0.893687707641196\n",
      "=============== Fold No: 6 ===============\n",
      "[0]\tvalidation_0-error:0.18355\n",
      "[100]\tvalidation_0-error:0.09468\n",
      "[200]\tvalidation_0-error:0.09552\n",
      "[288]\tvalidation_0-error:0.09302\n",
      "0.9102990033222591\n",
      "=============== Fold No: 7 ===============\n",
      "[0]\tvalidation_0-error:0.18953\n",
      "[100]\tvalidation_0-error:0.09476\n",
      "[200]\tvalidation_0-error:0.09393\n",
      "[263]\tvalidation_0-error:0.09809\n",
      "0.9093931837073982\n",
      "=============== Fold No: 8 ===============\n",
      "[0]\tvalidation_0-error:0.19036\n",
      "[100]\tvalidation_0-error:0.11139\n",
      "[200]\tvalidation_0-error:0.11471\n",
      "[228]\tvalidation_0-error:0.11222\n",
      "0.8960931005818786\n",
      "=============== Fold No: 9 ===============\n",
      "[0]\tvalidation_0-error:0.19119\n",
      "[100]\tvalidation_0-error:0.10723\n",
      "[200]\tvalidation_0-error:0.10557\n",
      "[244]\tvalidation_0-error:0.11056\n",
      "0.8977556109725686\n",
      "=============== Fold No: 10 ===============\n",
      "[0]\tvalidation_0-error:0.19119\n",
      "[100]\tvalidation_0-error:0.10640\n",
      "[200]\tvalidation_0-error:0.11554\n",
      "[250]\tvalidation_0-error:0.11139\n",
      "0.8935993349958438\n",
      "0.9042854519294234\n"
     ]
    }
   ],
   "source": [
    "pred= my_folds(XGBClassifier, xgb_param, 'error')"
   ]
  },
  {
   "cell_type": "code",
   "execution_count": 22,
   "id": "96a0706d",
   "metadata": {},
   "outputs": [],
   "source": [
    "xgb_pred= pd.DataFrame()\n",
    "xgb_pred['Prediction'] = pred\n",
    "xgb_pred.to_csv('xgb_prediction.csv', index=False)"
   ]
  },
  {
   "cell_type": "code",
   "execution_count": null,
   "id": "1c152e84",
   "metadata": {},
   "outputs": [],
   "source": []
  }
 ],
 "metadata": {
  "kernelspec": {
   "display_name": "Python 3 (ipykernel)",
   "language": "python",
   "name": "python3"
  },
  "language_info": {
   "codemirror_mode": {
    "name": "ipython",
    "version": 3
   },
   "file_extension": ".py",
   "mimetype": "text/x-python",
   "name": "python",
   "nbconvert_exporter": "python",
   "pygments_lexer": "ipython3",
   "version": "3.9.7"
  }
 },
 "nbformat": 4,
 "nbformat_minor": 5
}
