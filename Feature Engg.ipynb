{
 "cells": [
  {
   "cell_type": "code",
   "execution_count": 1,
   "id": "e32e36cc",
   "metadata": {},
   "outputs": [],
   "source": [
    "import pandas as pd\n",
    "import numpy as np\n",
    "import matplotlib.pyplot as plt\n",
    "import seaborn as sns"
   ]
  },
  {
   "cell_type": "code",
   "execution_count": 2,
   "id": "128eba69",
   "metadata": {},
   "outputs": [],
   "source": [
    "df= pd.read_csv('cleaned_dataset.csv', index_col='Unnamed: 0')"
   ]
  },
  {
   "cell_type": "code",
   "execution_count": 3,
   "id": "43ab72f8",
   "metadata": {},
   "outputs": [],
   "source": [
    "df['Credit_score_range']= pd.cut(df['CreditScore'], bins=[350.0,620.0,690.0,720.0,850.0], labels=['Bad', 'Fair', 'Good', 'Excellent'], duplicates='drop')"
   ]
  },
  {
   "cell_type": "code",
   "execution_count": 4,
   "id": "b0a23b94",
   "metadata": {},
   "outputs": [],
   "source": [
    "df.Credit_score_range.fillna(value=df.Credit_score_range.mode()[0], axis=0, inplace=True)"
   ]
  },
  {
   "cell_type": "code",
   "execution_count": 6,
   "id": "eb3be33e",
   "metadata": {},
   "outputs": [],
   "source": [
    "df['balance_bins']= pd.qcut(df.Balance, q=15, duplicates='drop', labels= [0,1,2,3,4,5,6,7,8,9])"
   ]
  },
  {
   "cell_type": "code",
   "execution_count": 7,
   "id": "d63b1628",
   "metadata": {},
   "outputs": [],
   "source": [
    "df['estimated_salary_bins']= pd.qcut(df.EstimatedSalary, q=10, labels=[0,1,2,3,4,5,6,7,8,9])"
   ]
  },
  {
   "cell_type": "code",
   "execution_count": 8,
   "id": "bbc76a4a",
   "metadata": {},
   "outputs": [],
   "source": [
    "df['credit_score_by_customer']= df.groupby(['Credit_score_range'])['CustomerId'].transform('count')"
   ]
  },
  {
   "cell_type": "code",
   "execution_count": 9,
   "id": "f3882411",
   "metadata": {},
   "outputs": [
    {
     "data": {
      "text/plain": [
       "CustomerId                  0\n",
       "CreditScore                 0\n",
       "Gender                      0\n",
       "Age                         0\n",
       "Tenure                      0\n",
       "Balance                     0\n",
       "NumOfProducts               0\n",
       "HasCrCard                   0\n",
       "IsActiveMember              0\n",
       "EstimatedSalary             0\n",
       "Exited                      0\n",
       "family_members_in_bank      0\n",
       "country__Germany            0\n",
       "country__Spain              0\n",
       "Credit_score_range          0\n",
       "balance_bins                0\n",
       "estimated_salary_bins       0\n",
       "credit_score_by_customer    0\n",
       "dtype: int64"
      ]
     },
     "execution_count": 9,
     "metadata": {},
     "output_type": "execute_result"
    }
   ],
   "source": [
    "df.isnull().sum()"
   ]
  },
  {
   "cell_type": "code",
   "execution_count": 10,
   "id": "f7f71a46",
   "metadata": {},
   "outputs": [
    {
     "data": {
      "text/plain": [
       "['Bad', 'Good', 'Excellent', 'Fair']\n",
       "Categories (4, object): ['Bad' < 'Fair' < 'Good' < 'Excellent']"
      ]
     },
     "execution_count": 10,
     "metadata": {},
     "output_type": "execute_result"
    }
   ],
   "source": [
    "df.Credit_score_range.unique()"
   ]
  },
  {
   "cell_type": "code",
   "execution_count": 11,
   "id": "9a27b017",
   "metadata": {},
   "outputs": [],
   "source": [
    "df.Credit_score_range= df.Credit_score_range.map({'Bad': 0,\n",
    "                                                  'Fair': 1,\n",
    "                                                  'Good': 2,\n",
    "                                                  'Excellent': 3})"
   ]
  },
  {
   "cell_type": "code",
   "execution_count": 12,
   "id": "a8afe538",
   "metadata": {},
   "outputs": [
    {
     "data": {
      "text/html": [
       "<div>\n",
       "<style scoped>\n",
       "    .dataframe tbody tr th:only-of-type {\n",
       "        vertical-align: middle;\n",
       "    }\n",
       "\n",
       "    .dataframe tbody tr th {\n",
       "        vertical-align: top;\n",
       "    }\n",
       "\n",
       "    .dataframe thead th {\n",
       "        text-align: right;\n",
       "    }\n",
       "</style>\n",
       "<table border=\"1\" class=\"dataframe\">\n",
       "  <thead>\n",
       "    <tr style=\"text-align: right;\">\n",
       "      <th></th>\n",
       "      <th>CustomerId</th>\n",
       "      <th>CreditScore</th>\n",
       "      <th>Gender</th>\n",
       "      <th>Age</th>\n",
       "      <th>Tenure</th>\n",
       "      <th>Balance</th>\n",
       "      <th>NumOfProducts</th>\n",
       "      <th>HasCrCard</th>\n",
       "      <th>IsActiveMember</th>\n",
       "      <th>EstimatedSalary</th>\n",
       "      <th>Exited</th>\n",
       "      <th>family_members_in_bank</th>\n",
       "      <th>country__Germany</th>\n",
       "      <th>country__Spain</th>\n",
       "      <th>Credit_score_range</th>\n",
       "      <th>balance_bins</th>\n",
       "      <th>estimated_salary_bins</th>\n",
       "      <th>credit_score_by_customer</th>\n",
       "    </tr>\n",
       "  </thead>\n",
       "  <tbody>\n",
       "    <tr>\n",
       "      <th>0</th>\n",
       "      <td>15634602</td>\n",
       "      <td>619</td>\n",
       "      <td>0</td>\n",
       "      <td>3.761200</td>\n",
       "      <td>2</td>\n",
       "      <td>0.00</td>\n",
       "      <td>1</td>\n",
       "      <td>1</td>\n",
       "      <td>1</td>\n",
       "      <td>101348.88</td>\n",
       "      <td>1</td>\n",
       "      <td>1</td>\n",
       "      <td>0</td>\n",
       "      <td>0</td>\n",
       "      <td>0</td>\n",
       "      <td>0</td>\n",
       "      <td>5</td>\n",
       "      <td>3777</td>\n",
       "    </tr>\n",
       "    <tr>\n",
       "      <th>1</th>\n",
       "      <td>15647311</td>\n",
       "      <td>608</td>\n",
       "      <td>0</td>\n",
       "      <td>3.737670</td>\n",
       "      <td>1</td>\n",
       "      <td>83807.86</td>\n",
       "      <td>1</td>\n",
       "      <td>0</td>\n",
       "      <td>1</td>\n",
       "      <td>112542.58</td>\n",
       "      <td>0</td>\n",
       "      <td>17</td>\n",
       "      <td>0</td>\n",
       "      <td>1</td>\n",
       "      <td>0</td>\n",
       "      <td>1</td>\n",
       "      <td>5</td>\n",
       "      <td>3777</td>\n",
       "    </tr>\n",
       "    <tr>\n",
       "      <th>2</th>\n",
       "      <td>15619304</td>\n",
       "      <td>502</td>\n",
       "      <td>0</td>\n",
       "      <td>3.761200</td>\n",
       "      <td>8</td>\n",
       "      <td>159660.80</td>\n",
       "      <td>3</td>\n",
       "      <td>1</td>\n",
       "      <td>0</td>\n",
       "      <td>113931.57</td>\n",
       "      <td>1</td>\n",
       "      <td>8</td>\n",
       "      <td>0</td>\n",
       "      <td>0</td>\n",
       "      <td>0</td>\n",
       "      <td>9</td>\n",
       "      <td>5</td>\n",
       "      <td>3777</td>\n",
       "    </tr>\n",
       "    <tr>\n",
       "      <th>3</th>\n",
       "      <td>15701354</td>\n",
       "      <td>699</td>\n",
       "      <td>0</td>\n",
       "      <td>3.688879</td>\n",
       "      <td>1</td>\n",
       "      <td>0.00</td>\n",
       "      <td>2</td>\n",
       "      <td>0</td>\n",
       "      <td>0</td>\n",
       "      <td>93826.63</td>\n",
       "      <td>0</td>\n",
       "      <td>14</td>\n",
       "      <td>0</td>\n",
       "      <td>0</td>\n",
       "      <td>2</td>\n",
       "      <td>0</td>\n",
       "      <td>4</td>\n",
       "      <td>1064</td>\n",
       "    </tr>\n",
       "    <tr>\n",
       "      <th>4</th>\n",
       "      <td>15737888</td>\n",
       "      <td>850</td>\n",
       "      <td>0</td>\n",
       "      <td>3.784190</td>\n",
       "      <td>2</td>\n",
       "      <td>125510.82</td>\n",
       "      <td>1</td>\n",
       "      <td>1</td>\n",
       "      <td>1</td>\n",
       "      <td>79084.10</td>\n",
       "      <td>0</td>\n",
       "      <td>20</td>\n",
       "      <td>0</td>\n",
       "      <td>1</td>\n",
       "      <td>3</td>\n",
       "      <td>5</td>\n",
       "      <td>3</td>\n",
       "      <td>2408</td>\n",
       "    </tr>\n",
       "  </tbody>\n",
       "</table>\n",
       "</div>"
      ],
      "text/plain": [
       "   CustomerId  CreditScore  Gender       Age  Tenure    Balance  \\\n",
       "0    15634602          619       0  3.761200       2       0.00   \n",
       "1    15647311          608       0  3.737670       1   83807.86   \n",
       "2    15619304          502       0  3.761200       8  159660.80   \n",
       "3    15701354          699       0  3.688879       1       0.00   \n",
       "4    15737888          850       0  3.784190       2  125510.82   \n",
       "\n",
       "   NumOfProducts  HasCrCard  IsActiveMember  EstimatedSalary  Exited  \\\n",
       "0              1          1               1        101348.88       1   \n",
       "1              1          0               1        112542.58       0   \n",
       "2              3          1               0        113931.57       1   \n",
       "3              2          0               0         93826.63       0   \n",
       "4              1          1               1         79084.10       0   \n",
       "\n",
       "   family_members_in_bank  country__Germany  country__Spain  \\\n",
       "0                       1                 0               0   \n",
       "1                      17                 0               1   \n",
       "2                       8                 0               0   \n",
       "3                      14                 0               0   \n",
       "4                      20                 0               1   \n",
       "\n",
       "  Credit_score_range balance_bins estimated_salary_bins  \\\n",
       "0                  0            0                     5   \n",
       "1                  0            1                     5   \n",
       "2                  0            9                     5   \n",
       "3                  2            0                     4   \n",
       "4                  3            5                     3   \n",
       "\n",
       "   credit_score_by_customer  \n",
       "0                      3777  \n",
       "1                      3777  \n",
       "2                      3777  \n",
       "3                      1064  \n",
       "4                      2408  "
      ]
     },
     "execution_count": 12,
     "metadata": {},
     "output_type": "execute_result"
    }
   ],
   "source": [
    "df.head()"
   ]
  },
  {
   "cell_type": "code",
   "execution_count": 13,
   "id": "c4fe98d9",
   "metadata": {},
   "outputs": [],
   "source": [
    "df= df.drop('CustomerId', axis=1)"
   ]
  },
  {
   "cell_type": "code",
   "execution_count": 14,
   "id": "0af342c6",
   "metadata": {},
   "outputs": [],
   "source": [
    "df.to_csv('final_data.csv')"
   ]
  },
  {
   "cell_type": "code",
   "execution_count": null,
   "id": "408954b3",
   "metadata": {},
   "outputs": [],
   "source": []
  }
 ],
 "metadata": {
  "kernelspec": {
   "display_name": "Python 3 (ipykernel)",
   "language": "python",
   "name": "python3"
  },
  "language_info": {
   "codemirror_mode": {
    "name": "ipython",
    "version": 3
   },
   "file_extension": ".py",
   "mimetype": "text/x-python",
   "name": "python",
   "nbconvert_exporter": "python",
   "pygments_lexer": "ipython3",
   "version": "3.9.7"
  }
 },
 "nbformat": 4,
 "nbformat_minor": 5
}
